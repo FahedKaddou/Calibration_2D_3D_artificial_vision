{
 "cells": [
  {
   "cell_type": "markdown",
   "metadata": {},
   "source": [
    "#  Calibration"
   ]
  },
  {
   "cell_type": "markdown",
   "metadata": {},
   "source": [
    "The objective is to calibrate a camera using a projection model\n",
    "center (pinhole model). The calibration will be done with the linear model allowing the representation of the camera "
   ]
  },
  {
   "cell_type": "markdown",
   "metadata": {},
   "source": [
    "This calibration technique will make it possible to calculate the matrix M from a\n",
    "set of points given in (mypoints.csv)\n",
    "The data file contains the 3D/2D correspondence list, the 3D point of the world\n",
    "real and its 2D projection on the image plane. The first three values are the\n",
    "coordinates (X, Y, Z) of the 3D point in the image and the next two are the\n",
    "coordinates (u, v) of the 2D point in the image"
   ]
  },
  {
   "cell_type": "markdown",
   "metadata": {},
   "source": [
    "## Procedure"
   ]
  },
  {
   "cell_type": "markdown",
   "metadata": {},
   "source": [
    "\n",
    "Each point gives us 2 plane equations and we have 11 unknowns (5 intrinsic and\n",
    "6 extrinsic) so a minimum of 6 points are then required.\n",
    "We construct a system of linear equations that we can solve using the\n",
    "least square techniques.\n",
    "We estimate the mij (intrinsic and extrinsic parameters)"
   ]
  },
  {
   "cell_type": "code",
   "execution_count": 43,
   "metadata": {},
   "outputs": [],
   "source": [
    "import numpy as np\n",
    "import pandas as pd"
   ]
  },
  {
   "cell_type": "code",
   "execution_count": 44,
   "metadata": {},
   "outputs": [],
   "source": [
    "def myCalibration(x):\n",
    "    np.set_printoptions(suppress=True)\n",
    "    A = []\n",
    "    B = []\n",
    "    for d in x:\n",
    "        A.append([d[0], d[1], d[2], 1, 0, 0, 0, 0, d[3]*d[0]*(-1), d[3]*d[1]*(-1), d[3]*d[2]*(-1)])\n",
    "        A.append([0, 0, 0, 0, d[0], d[1], d[2], 1,d[4]*d[0]*(-1), d[4]*d[1]*(-1), d[4]*d[2]*(-1)])\n",
    "        B.append(d[3])\n",
    "        B.append(d[4])\n",
    "    B = np.array(B)\n",
    "    A = np.array(A)\n",
    "    print(\"\\n************************************************************\\n\")\n",
    "    print(A.shape,\" \\nA = \",A)\n",
    "    print(\"\\n************************************************************\\n\")\n",
    "    print(B.shape,\" \\nB = \",B)\n",
    "    \n",
    "    \n",
    "    s=np.matmul(np.transpose(A),A)\n",
    "    s=np.linalg.pinv(s)\n",
    "    s=np.matmul(s,np.transpose(A))\n",
    "    S=np.matmul(s,np.transpose(B))\n",
    "    print(\"\\n************************************************************\\n\")\n",
    "    print(S.shape,\" \\nS = \",S)\n",
    "    \n",
    "    \n",
    "    M1 = np.array([S[0], S[1], S[2]])\n",
    "    M2 = np.array([S[4], S[5], S[6]])\n",
    "    M3 = np.array([S[8], S[9], S[10]])\n",
    "    M14 = S[3]\n",
    "    M24 = S[7]\n",
    "    M34 = 1\n",
    "    M3t = np.transpose(M3)\n",
    "    \n",
    "    u0 = M1@M3t\n",
    "    v0 = M2@M3t\n",
    "    print(\"\\n************************************************************\\n\")\n",
    "    print(\"u0 = \", u0, \"\\nv0 = \", v0)\n",
    "    \n",
    "    \n",
    "    au = np.linalg.norm(np.cross(M1, M3))\n",
    "    av = np.linalg.norm(np.cross(M2, M3))\n",
    "    print(\"\\n************************************************************\\n\")\n",
    "    print(\"au = \", au,\"\\nav = \", av)\n",
    "    \n",
    "    \n",
    "    tx = (M14-u0*M34)/au\n",
    "    ty = (M24-v0*M34)/av\n",
    "    tz = 1\n",
    "    r1 = (M1-u0*M3)/au\n",
    "    r2 = (M2-v0*M3)/av\n",
    "    r3 = M3\n",
    "    \n",
    "    \n",
    "    MI = np.array([[au, 0, u0, 0],\n",
    "                   [0, av, v0, 0],\n",
    "                   [0, 0, 1, 0]])\n",
    "    ME = np.array([[r1[0], r1[1], r1[2], tx],\n",
    "                   [r2[0], r2[1], r2[2], ty],\n",
    "                   [r3[0], r3[1], r3[2], tz]])\n",
    "    print(\"\\n************************************************************\\n\")\n",
    "    print(\"MI\\n\", MI) \n",
    "    print(\"\\n************************************************************\\n\")\n",
    "    print(\"ME\\n\", ME)\n",
    "    M = np.array([[S[0],S[1], S[2], S[3]],\n",
    "          [S[4],S[5], S[6], S[7]],\n",
    "          [S[8],S[9], S[10], M34]])\n",
    "    print(\"\\n************************************************************\\n\")\n",
    "    print(\"M = \",M)"
   ]
  },
  {
   "cell_type": "code",
   "execution_count": 45,
   "metadata": {},
   "outputs": [
    {
     "name": "stdout",
     "output_type": "stream",
     "text": [
      "(13, 7) \n",
      " [[140 20 0 655.0 759.5 391.5 '735.5;;;']\n",
      " [120 20 0 839.5 792.5 575.0 '761;;;']\n",
      " [140 0 0 639.5 948.0 374.5 '919.5;;;']\n",
      " [120 0 0 828.0 972.0 563.0 '938;;;']\n",
      " [60 -20 0 1306.5 1207.5 1055.5 '1158.5;;;']\n",
      " [40 -20 0 1437.5 1221.5 1195.0 '1170;;;']\n",
      " [20 -20 0 1553.9 1234.5 1320.5 '1181.5;;;']\n",
      " [60 -40 0 1308.5 1373.5 1057.0 '1324;;;']\n",
      " [40 -40 0 1439.5 1378.5 1197.5 '1327.5;;;']\n",
      " [20 -40 0 1557.0 1383.0 1324.0 '1331;;;']\n",
      " [60 -60 0 1310.5 1541.5 1061.5 '1491.5;;;']\n",
      " [40 -60 0 1442.5 1536.5 1201.5 '1486.5;;;']\n",
      " [20 -60 0 1559.0 1532.5 1327.5 '1481;;;']]\n"
     ]
    }
   ],
   "source": [
    "np.set_printoptions(suppress=True)\n",
    "mydata = pd.read_csv(\"mypoints.csv\")\n",
    "data=np.array(mydata)\n",
    "cam=data[0:13]\n",
    "print(cam.shape,\"\\n\",cam)\n"
   ]
  },
  {
   "cell_type": "code",
   "execution_count": 47,
   "metadata": {},
   "outputs": [
    {
     "name": "stdout",
     "output_type": "stream",
     "text": [
      "\n",
      "************************************************************\n",
      "\n",
      "(26, 11)  \n",
      "A =  [[    140.      20.       0.       1.       0.       0.       0.       0.\n",
      "   -91700.  -13100.      -0.]\n",
      " [      0.       0.       0.       0.     140.      20.       0.       1.\n",
      "  -106330.  -15190.      -0.]\n",
      " [    120.      20.       0.       1.       0.       0.       0.       0.\n",
      "  -100740.  -16790.      -0.]\n",
      " [      0.       0.       0.       0.     120.      20.       0.       1.\n",
      "   -95100.  -15850.      -0.]\n",
      " [    140.       0.       0.       1.       0.       0.       0.       0.\n",
      "   -89530.      -0.      -0.]\n",
      " [      0.       0.       0.       0.     140.       0.       0.       1.\n",
      "  -132720.      -0.      -0.]\n",
      " [    120.       0.       0.       1.       0.       0.       0.       0.\n",
      "   -99360.      -0.      -0.]\n",
      " [      0.       0.       0.       0.     120.       0.       0.       1.\n",
      "  -116640.      -0.      -0.]\n",
      " [     60.     -20.       0.       1.       0.       0.       0.       0.\n",
      "   -78390.   26130.      -0.]\n",
      " [      0.       0.       0.       0.      60.     -20.       0.       1.\n",
      "   -72450.   24150.      -0.]\n",
      " [     40.     -20.       0.       1.       0.       0.       0.       0.\n",
      "   -57500.   28750.      -0.]\n",
      " [      0.       0.       0.       0.      40.     -20.       0.       1.\n",
      "   -48860.   24430.      -0.]\n",
      " [     20.     -20.       0.       1.       0.       0.       0.       0.\n",
      "   -31078.   31078.      -0.]\n",
      " [      0.       0.       0.       0.      20.     -20.       0.       1.\n",
      "   -24690.   24690.      -0.]\n",
      " [     60.     -40.       0.       1.       0.       0.       0.       0.\n",
      "   -78510.   52340.      -0.]\n",
      " [      0.       0.       0.       0.      60.     -40.       0.       1.\n",
      "   -82410.   54940.      -0.]\n",
      " [     40.     -40.       0.       1.       0.       0.       0.       0.\n",
      "   -57580.   57580.      -0.]\n",
      " [      0.       0.       0.       0.      40.     -40.       0.       1.\n",
      "   -55140.   55140.      -0.]\n",
      " [     20.     -40.       0.       1.       0.       0.       0.       0.\n",
      "   -31140.   62280.      -0.]\n",
      " [      0.       0.       0.       0.      20.     -40.       0.       1.\n",
      "   -27660.   55320.      -0.]\n",
      " [     60.     -60.       0.       1.       0.       0.       0.       0.\n",
      "   -78630.   78630.      -0.]\n",
      " [      0.       0.       0.       0.      60.     -60.       0.       1.\n",
      "   -92490.   92490.      -0.]\n",
      " [     40.     -60.       0.       1.       0.       0.       0.       0.\n",
      "   -57700.   86550.      -0.]\n",
      " [      0.       0.       0.       0.      40.     -60.       0.       1.\n",
      "   -61460.   92190.      -0.]\n",
      " [     20.     -60.       0.       1.       0.       0.       0.       0.\n",
      "   -31180.   93540.      -0.]\n",
      " [      0.       0.       0.       0.      20.     -60.       0.       1.\n",
      "   -30650.   91950.      -0.]]\n",
      "\n",
      "************************************************************\n",
      "\n",
      "(26,)  \n",
      "B =  [ 655.   759.5  839.5  792.5  639.5  948.   828.   972.  1306.5 1207.5\n",
      " 1437.5 1221.5 1553.9 1234.5 1308.5 1373.5 1439.5 1378.5 1557.  1383.\n",
      " 1310.5 1541.5 1442.5 1536.5 1559.  1532.5]\n",
      "\n",
      "************************************************************\n",
      "\n",
      "(11,)  \n",
      "S =  [  -8.62012039    0.71080812    0.00000064 1656.40265191   -3.14094333\n",
      "   -6.24897885   -0.         1104.23812927   -0.00212401    0.00057752\n",
      "    0.        ]\n",
      "\n",
      "************************************************************\n",
      "\n",
      "u0 =  0.01871976711240522 \n",
      "v0 =  0.0030625118972628174\n",
      "\n",
      "************************************************************\n",
      "\n",
      "au =  0.0034685080552533986 \n",
      "av =  0.01508687449628995\n",
      "\n",
      "************************************************************\n",
      "\n",
      "MI\n",
      " [[0.00346851 0.         0.01871977 0.        ]\n",
      " [0.         0.01508687 0.00306251 0.        ]\n",
      " [0.         0.         1.         0.        ]]\n",
      "\n",
      "************************************************************\n",
      "\n",
      "ME\n",
      " [[ -2485.24163331    204.92883451      0.00018488 477549.39753925]\n",
      " [  -208.19002821   -414.19981474     -0.          73191.77123333]\n",
      " [    -0.00212401      0.00057752      0.              1.        ]]\n",
      "\n",
      "************************************************************\n",
      "\n",
      "M =  [[  -8.62012039    0.71080812    0.00000064 1656.40265191]\n",
      " [  -3.14094333   -6.24897885   -0.         1104.23812927]\n",
      " [  -0.00212401    0.00057752    0.            1.        ]]\n"
     ]
    }
   ],
   "source": [
    "myCalibration(cam)"
   ]
  },
  {
   "cell_type": "code",
   "execution_count": null,
   "metadata": {},
   "outputs": [],
   "source": []
  }
 ],
 "metadata": {
  "kernelspec": {
   "display_name": "Python 3",
   "language": "python",
   "name": "python3"
  },
  "language_info": {
   "codemirror_mode": {
    "name": "ipython",
    "version": 3
   },
   "file_extension": ".py",
   "mimetype": "text/x-python",
   "name": "python",
   "nbconvert_exporter": "python",
   "pygments_lexer": "ipython3",
   "version": "3.8.5"
  }
 },
 "nbformat": 4,
 "nbformat_minor": 4
}
