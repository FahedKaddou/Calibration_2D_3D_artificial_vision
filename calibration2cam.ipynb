{
 "cells": [
  {
   "cell_type": "markdown",
   "metadata": {},
   "source": [
    "#  Calibration of two Cameras"
   ]
  },
  {
   "cell_type": "markdown",
   "metadata": {},
   "source": [
    "Now that the calibration of a camera is already done (calibration.ipynb). It is possible to\n",
    "calibrate a second camera in the same way. The calibration of each camera is done by\n",
    "relation to the same object whose acquisition is made simultaneously by the two cameras"
   ]
  },
  {
   "cell_type": "code",
   "execution_count": 2,
   "metadata": {},
   "outputs": [],
   "source": [
    "import numpy as np\n",
    "import pandas as pd"
   ]
  },
  {
   "cell_type": "code",
   "execution_count": 35,
   "metadata": {},
   "outputs": [],
   "source": [
    "def myCalibration(CamG, CamD):\n",
    "    \n",
    "    ### This is for left camera \n",
    "    np.set_printoptions(suppress=True)\n",
    "    A = []\n",
    "    B = []\n",
    "    for d in CamG:\n",
    "        A.append([d[0], d[1], d[2], 1, 0, 0, 0, 0, d[3]*d[0]*(-1), d[3]*d[1]*(-1), d[3]*d[2]*(-1)])\n",
    "        A.append([0, 0, 0, 0, d[0], d[1], d[2], 1,d[4]*d[0]*(-1), d[4]*d[1]*(-1), d[4]*d[2]*(-1)])\n",
    "        B.append(d[3])\n",
    "        B.append(d[4])\n",
    "    B = np.array(B)\n",
    "    A = np.array(A)\n",
    "    \n",
    "    s=np.matmul(np.transpose(A),A)\n",
    "    s=np.linalg.pinv(s)\n",
    "    s=np.matmul(s,np.transpose(A))\n",
    "    S=np.matmul(s,np.transpose(B))\n",
    "    \n",
    "    \n",
    "    M1 = np.array([S[0], S[1], S[2]])\n",
    "    M2 = np.array([S[4], S[5], S[6]])\n",
    "    M3 = np.array([S[8], S[9], S[10]])\n",
    "    M14 = S[3]\n",
    "    M24 = S[7]\n",
    "    M34 = 1\n",
    "    M3t = np.transpose(M3)\n",
    "    \n",
    "    u0 = M1@M3t\n",
    "    v0 = M2@M3t\n",
    "    \n",
    "    au = np.linalg.norm(np.cross(M1, M3))\n",
    "    av = np.linalg.norm(np.cross(M2, M3))\n",
    "    \n",
    "    tx = (M14-u0*M34)/au\n",
    "    ty = (M24-v0*M34)/av\n",
    "    tz = 1\n",
    "    r1 = (M1-u0*M3)/au\n",
    "    r2 = (M2-v0*M3)/av\n",
    "    r3 = M3\n",
    "    \n",
    "    \n",
    "    MI = np.array([[au, 0, u0, 0],\n",
    "                   [0, av, v0, 0],\n",
    "                   [0, 0, 1, 0]])\n",
    "    ME = np.array([[r1[0], r1[1], r1[2], tx],\n",
    "                   [r2[0], r2[1], r2[2], ty],\n",
    "                   [r3[0], r3[1], r3[2], tz]])\n",
    "    \n",
    "\n",
    "    \n",
    "    \n",
    "    \n",
    "    \n",
    "    \n",
    "    \n",
    "    \n",
    "    ### This is for right camera \n",
    "    np.set_printoptions(suppress=True)\n",
    "    AA = []\n",
    "    BB = []\n",
    "    for d in CamD:\n",
    "        AA.append([d[0], d[1], d[2], 1, 0, 0, 0, 0, d[3]*d[0]*(-1), d[3]*d[1]*(-1), d[3]*d[2]*(-1)])\n",
    "        AA.append([0, 0, 0, 0, d[0], d[1], d[2], 1,d[4]*d[0]*(-1), d[4]*d[1]*(-1), d[4]*d[2]*(-1)])\n",
    "        BB.append(d[3])\n",
    "        BB.append(d[4])\n",
    "    BB = np.array(BB)\n",
    "    AA = np.array(AA)\n",
    "    \n",
    "    ss=np.matmul(np.transpose(AA),AA)\n",
    "    ss=np.linalg.pinv(ss)\n",
    "    ss=np.matmul(ss,np.transpose(AA))\n",
    "    SS=np.matmul(ss,np.transpose(BB))\n",
    "    \n",
    "    \n",
    "    M1t = np.array([SS[0], SS[1], SS[2]])\n",
    "    M2t = np.array([SS[4], SS[5], SS[6]])\n",
    "    M3t = np.array([SS[8], SS[9], SS[10]])\n",
    "    M14t = SS[3]\n",
    "    M24t = SS[7]\n",
    "    M34t = 1\n",
    "    M3tt = np.transpose(M3t)\n",
    "    \n",
    "    u0t = M1t@M3tt\n",
    "    v0t = M2t@M3tt\n",
    "    \n",
    "    aut = np.linalg.norm(np.cross(M1t, M3t))\n",
    "    avt = np.linalg.norm(np.cross(M2t, M3t))\n",
    "    \n",
    "    txt = (M14t-u0t*M34t)/aut\n",
    "    tyt = (M24t-v0t*M34t)/avt\n",
    "    tzt = 1\n",
    "    r1t = (M1t-u0t*M3t)/aut\n",
    "    r2t = (M2t-v0t*M3t)/avt\n",
    "    r3t = M3t\n",
    "    \n",
    "    \n",
    "    MII = np.array([[aut, 0, u0t, 0],\n",
    "                   [0, avt, v0t, 0],\n",
    "                   [0, 0, 1, 0]])\n",
    "    MEE = np.array([[r1t[0], r1t[1], r1t[2], txt],\n",
    "                   [r2t[0], r2t[1], r2t[2], tyt],\n",
    "                   [r3t[0], r3t[1], r3t[2], tzt]])\n",
    "    \n",
    "    \n",
    "    Mat_A=[[M1[0]-np.multiply(M3[0],u0),M1[1]-np.multiply(M3[1],u0),M1[2]-np.multiply(M3[2],u0)],\n",
    "           [M2[0]-np.multiply(M3[0],v0),M2[1]-np.multiply(M3[1],v0),M2[2]-np.multiply(M3[2],v0)],\n",
    "           [M1t[0]-np.multiply(M3t[0],u0t),M1t[1]-np.multiply(M3t[1],u0t),M1t[2]-np.multiply(M3t[2],u0t)],\n",
    "           [M2t[0]-np.multiply(M3t[0],v0t),M2t[1]-np.multiply(M3t[1],v0t),M2t[2]-np.multiply(M3t[2],v0t)]]\n",
    "    Mat_B=[[M14-u0],[M24-v0],[M14t-u0t],[M24t-v0t]]\n",
    "    \n",
    "    \n",
    "    # We estimate the 3D reconstruction of all the 2D points that were not used for calibration.\n",
    "    \n",
    "    \n",
    "    for i in range(len(Mat_A)):\n",
    "        X = []\n",
    "        res = []\n",
    "        for j in range(len(Mat_A[i])):\n",
    "            X.append(np.matmul(np.linalg.pinv(Mat_A),np.multiply(-1,Mat_B)))\n",
    "        res.append(X)\n",
    "    print(res)\n",
    "        \n",
    "    \n",
    "    \n",
    "    \n",
    "    "
   ]
  },
  {
   "cell_type": "code",
   "execution_count": 36,
   "metadata": {},
   "outputs": [
    {
     "name": "stdout",
     "output_type": "stream",
     "text": [
      "(13, 7) \n",
      " [[140 20 0 655.0 759.5 391.5 '735.5;;;']\n",
      " [120 20 0 839.5 792.5 575.0 '761;;;']\n",
      " [140 0 0 639.5 948.0 374.5 '919.5;;;']\n",
      " [120 0 0 828.0 972.0 563.0 '938;;;']\n",
      " [60 -20 0 1306.5 1207.5 1055.5 '1158.5;;;']\n",
      " [40 -20 0 1437.5 1221.5 1195.0 '1170;;;']\n",
      " [20 -20 0 1553.9 1234.5 1320.5 '1181.5;;;']\n",
      " [60 -40 0 1308.5 1373.5 1057.0 '1324;;;']\n",
      " [40 -40 0 1439.5 1378.5 1197.5 '1327.5;;;']\n",
      " [20 -40 0 1557.0 1383.0 1324.0 '1331;;;']\n",
      " [60 -60 0 1310.5 1541.5 1061.5 '1491.5;;;']\n",
      " [40 -60 0 1442.5 1536.5 1201.5 '1486.5;;;']\n",
      " [20 -60 0 1559.0 1532.5 1327.5 '1481;;;']]\n"
     ]
    }
   ],
   "source": [
    "np.set_printoptions(suppress=True)\n",
    "mydata = pd.read_csv(\"mypoints.csv\")\n",
    "dataG=np.array(mydata)\n",
    "CamG=dataG[0:13]\n",
    "print(CamG.shape,\"\\n\",CamG)"
   ]
  },
  {
   "cell_type": "code",
   "execution_count": 37,
   "metadata": {},
   "outputs": [
    {
     "name": "stdout",
     "output_type": "stream",
     "text": [
      "(13, 7) \n",
      " [[0 -20 20 1766.0 1230.0 1534.5 '1173;;;']\n",
      " [0 -20 40 1886.0 1212.5 1645.5 '1152.5;;;']\n",
      " [0 -20 60 2019.5 1193.0 1772.0 '1131;;;']\n",
      " [0 -40 20 1770.5 1378.5 1538.5 '1323.5;;;']\n",
      " [0 -40 40 1890.5 1369.5 1651.0 '1313;;;']\n",
      " [0 -40 60 2025.5 1360.5 1779.0 '1301;;;']\n",
      " [0 -60 20 1773.0 1529.0 1543.0 '1475.5;;;']\n",
      " [0 -60 40 1894.0 1529.0 1655.5 '1475;;;']\n",
      " [0 -60 60 2029.0 1530.0 1784.0 '1474.5;;;']\n",
      " [0 -120 120 2507.0 2118.0 2263.0 '2083;;;']\n",
      " [0 -120 140 2697.5 2150.0 2457.5 '2119.5;;;']\n",
      " [0 -140 120 2488.5 2295.5 2248.5 '2267;;;']\n",
      " [0 -140 140 2673.0 2336.0 2436.0 '2312.5;;;']]\n"
     ]
    }
   ],
   "source": [
    "np.set_printoptions(suppress=True)\n",
    "mydata = pd.read_csv(\"mypoints.csv\")\n",
    "dataD=np.array(mydata)\n",
    "CamD=dataD[13:26]\n",
    "print(CamG.shape,\"\\n\",CamD)"
   ]
  },
  {
   "cell_type": "code",
   "execution_count": 38,
   "metadata": {},
   "outputs": [
    {
     "name": "stdout",
     "output_type": "stream",
     "text": [
      "[[array([[ 178.92718599],\n",
      "       [ 198.95265091],\n",
      "       [-275.86504731]]), array([[ 178.92718599],\n",
      "       [ 198.95265091],\n",
      "       [-275.86504731]]), array([[ 178.92718599],\n",
      "       [ 198.95265091],\n",
      "       [-275.86504731]])]]\n"
     ]
    }
   ],
   "source": [
    "myCalibration(CamG, CamD)"
   ]
  },
  {
   "cell_type": "code",
   "execution_count": null,
   "metadata": {},
   "outputs": [],
   "source": []
  }
 ],
 "metadata": {
  "kernelspec": {
   "display_name": "Python 3",
   "language": "python",
   "name": "python3"
  },
  "language_info": {
   "codemirror_mode": {
    "name": "ipython",
    "version": 3
   },
   "file_extension": ".py",
   "mimetype": "text/x-python",
   "name": "python",
   "nbconvert_exporter": "python",
   "pygments_lexer": "ipython3",
   "version": "3.8.5"
  }
 },
 "nbformat": 4,
 "nbformat_minor": 4
}
